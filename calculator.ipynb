{
 "cells": [
  {
   "cell_type": "code",
   "execution_count": 17,
   "metadata": {
    "collapsed": true
   },
   "outputs": [
    {
     "name": "stdout",
     "output_type": "stream",
     "text": [
      "tpr_mean: [] \n",
      "\n",
      "tpr_std: [] \n",
      "\n",
      "fpr_mean: [] \n",
      "\n",
      "fpr_std: [] \n",
      "\n"
     ]
    }
   ],
   "source": [
    "import numpy as np\n",
    "\n",
    "tpr_1 = []\n",
    "fpr_1 = []\n",
    "\n",
    "tpr_2 = []\n",
    "fpr_2 = []\n",
    "\n",
    "tpr_3 = []\n",
    "fpr_3 = []\n",
    "\n",
    "\n",
    "m = len(tpr_1)\n",
    "\n",
    "tpr_1 = np.array(tpr_1)\n",
    "tpr_2 = np.array(tpr_2)\n",
    "tpr_3 = np.array(tpr_3)\n",
    "\n",
    "fpr_1 = np.array(fpr_1)\n",
    "fpr_2 = np.array(fpr_2)\n",
    "fpr_3 = np.array(fpr_3)\n",
    "\n",
    "tpr_mean = (tpr_1 + tpr_2 + tpr_3) / 3\n",
    "tpr_std = np.sqrt(((tpr_1 - tpr_mean)**2 + (tpr_2 - tpr_mean)**2 + (tpr_3 - tpr_mean)**2)/3)\n",
    "\n",
    "fpr_mean = (fpr_1 + fpr_2 + fpr_3) / 3\n",
    "fpr_std = np.sqrt(((fpr_1 - fpr_mean)**2 + (fpr_2 - fpr_mean)**2 + (fpr_3 - fpr_mean)**2)/3)\n",
    "\n",
    "print('tpr_mean:' ,tpr_mean, \"\\n\")\n",
    "print('tpr_std:' ,tpr_std, \"\\n\")\n",
    "print('fpr_mean:' ,fpr_mean, \"\\n\")\n",
    "print('fpr_std:' ,fpr_std, \"\\n\")\n",
    "\n",
    "\n",
    "for i in range(m):\n",
    "    print('tpr : %.1f (%.1f), fpr: %.1f (%.1f)' % (tpr_mean[i], tpr_std[i], fpr_mean[i], fpr_std[i]) )\n",
    "\n",
    "\n"
   ]
  },
  {
   "cell_type": "code",
   "execution_count": 27,
   "outputs": [
    {
     "name": "stdout",
     "output_type": "stream",
     "text": [
      "140.0 20.0\n",
      "34.96666666666667 12.302393624367937\n",
      "acc_mean: [92.25 93.15 93.1  93.5  93.2  93.2  93.25 92.55 92.4  92.75 96.35 96.4\n",
      " 96.25 96.4  96.4  96.55 96.35 96.  ] \n",
      "\n",
      "acc_std: [0.35 0.15 0.2  0.2  0.   0.   0.05 0.45 0.1  0.15 0.05 0.1  0.05 0.\n",
      " 0.2  0.35 0.15 0.1 ] \n",
      "\n",
      "asr_mean: [0.   0.75 1.6  0.85 0.1  3.7  0.65 1.25 1.4  2.25 0.   0.2  1.35 0.45\n",
      " 0.35 1.85 0.25 0.35] \n",
      "\n",
      "asr_std: [0.   0.15 0.3  0.05 0.   1.6  0.05 0.05 0.1  0.15 0.   0.   0.75 0.25\n",
      " 0.05 0.75 0.05 0.15] \n",
      "\n",
      "[none] acc : 92.2 (0.3), asr: 0.0 (0.0)\n",
      "[badnet] acc : 93.2 (0.1), asr: 0.8 (0.2)\n",
      "[blend] acc : 93.1 (0.2), asr: 1.6 (0.3)\n",
      "[CL] acc : 93.5 (0.2), asr: 0.9 (0.0)\n",
      "[SIG] acc : 93.2 (0.0), asr: 0.1 (0.0)\n",
      "[Dynamic] acc : 93.2 (0.0), asr: 3.7 (1.6)\n",
      "[ISSBA] acc : 93.2 (0.0), asr: 0.6 (0.0)\n",
      "[TaCT] acc : 92.5 (0.5), asr: 1.2 (0.1)\n",
      "[Adap-Patch] acc : 92.4 (0.1), asr: 1.4 (0.1)\n",
      "[Adap-Blend] acc : 92.8 (0.2), asr: 2.2 (0.1)\n",
      "[none] acc : 96.3 (0.1), asr: 0.0 (0.0)\n",
      "[badnet] acc : 96.4 (0.1), asr: 0.2 (0.0)\n",
      "[blend] acc : 96.2 (0.0), asr: 1.4 (0.8)\n",
      "[SIG] acc : 96.4 (0.0), asr: 0.4 (0.2)\n",
      "[Dynamic] acc : 96.4 (0.2), asr: 0.3 (0.1)\n",
      "[TaCT] acc : 96.6 (0.4), asr: 1.9 (0.8)\n",
      "[Adap-Patch] acc : 96.3 (0.1), asr: 0.2 (0.0)\n",
      "[Adap-Blend] acc : 96.0 (0.1), asr: 0.3 (0.1)\n"
     ]
    }
   ],
   "source": [
    "import numpy as np\n",
    "\n",
    "names = ['none', 'badnet', 'blend', 'CL', 'SIG', 'Dynamic', 'ISSBA', 'TaCT', 'Adap-Patch', 'Adap-Blend', 'none', 'badnet', 'blend', 'SIG', 'Dynamic', 'TaCT', 'Adap-Patch', 'Adap-Blend']\n",
    "\n",
    "acc_1 = [92.6, 93, 92.9, 93.7, 93.2, 93.2, 93.3, 92.1, 92.5, 92.9, 96.4, 96.5, 96.2, 96.4, 96.2, 96.9, 96.2, 95.9]\n",
    "asr_1 = [0, 0.6, 1.3, 0.8, 0.1, 2.1, 0.6, 1.2, 1.5, 2.1, 0, 0.2, 2.1, 0.2, 0.4, 1.1, 0.2, 0.2]\n",
    "\n",
    "acc_2 = [91.9, 93.3, 93.3, 93.3, 93.2, 93.2, 93.2, 93.0, 92.3, 92.6, 96.3, 96.3, 96.3, 96.4, 96.6, 96.2, 96.5, 96.1]\n",
    "asr_2 = [0, 0.9, 1.9, 0.9, 0.1, 5.3, 0.7, 1.3, 1.3, 2.4, 0, 0.2, 0.6, 0.7, 0.3, 2.6, 0.3, 0.5]\n",
    "\n",
    "\n",
    "\n",
    "a = 100*1.6\n",
    "b = 100*1.2\n",
    "mean_scalar = (a+b)/2\n",
    "std_scalar = (((a-mean_scalar)**2 + (b-mean_scalar)**2 )/2) ** 0.5\n",
    "print(mean_scalar, std_scalar)\n",
    "\n",
    "\n",
    "a = 25.0\n",
    "b = 52.3\n",
    "c = 27.6\n",
    "\n",
    "mean_scalar = (a+b+c)/3\n",
    "std_scalar = (((a-mean_scalar)**2 + (b-mean_scalar)**2 + (c-mean_scalar)**2)/3) ** 0.5\n",
    "\n",
    "print(mean_scalar, std_scalar)\n",
    "\n",
    "#acc_3 = []\n",
    "#asr_3 = []\n",
    "\n",
    "\n",
    "m = len(acc_1)\n",
    "\n",
    "acc_1 = np.array(acc_1)\n",
    "acc_2 = np.array(acc_2)\n",
    "#acc_3 = np.array(acc_3)\n",
    "\n",
    "asr_1 = np.array(asr_1)\n",
    "asr_2 = np.array(asr_2)\n",
    "#asr_3 = np.array(asr_3)\n",
    "\n",
    "acc_mean = (acc_1 + acc_2 ) / 2\n",
    "acc_std = np.sqrt(((acc_1 - acc_mean)**2 + (acc_2 - acc_mean)**2 )/2)\n",
    "\n",
    "asr_mean = (asr_1 + asr_2 ) / 2\n",
    "asr_std = np.sqrt(((asr_1 - asr_mean)**2 + (asr_2 - asr_mean)**2 )/2)\n",
    "\n",
    "print('acc_mean:' ,acc_mean, \"\\n\")\n",
    "print('acc_std:' ,acc_std, \"\\n\")\n",
    "print('asr_mean:' ,asr_mean, \"\\n\")\n",
    "print('asr_std:' ,asr_std, \"\\n\")\n",
    "\n",
    "\n",
    "for i in range(m):\n",
    "    print('[%s] acc : %.1f (%.1f), asr: %.1f (%.1f)' % (names[i], acc_mean[i], acc_std[i], asr_mean[i], asr_std[i]) )\n"
   ],
   "metadata": {
    "collapsed": false,
    "pycharm": {
     "name": "#%%\n"
    }
   }
  }
 ],
 "metadata": {
  "kernelspec": {
   "display_name": "Python 3",
   "language": "python",
   "name": "python3"
  },
  "language_info": {
   "codemirror_mode": {
    "name": "ipython",
    "version": 2
   },
   "file_extension": ".py",
   "mimetype": "text/x-python",
   "name": "python",
   "nbconvert_exporter": "python",
   "pygments_lexer": "ipython2",
   "version": "2.7.6"
  }
 },
 "nbformat": 4,
 "nbformat_minor": 0
}